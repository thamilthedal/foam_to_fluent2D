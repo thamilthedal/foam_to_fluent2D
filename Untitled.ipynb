{
 "cells": [
  {
   "cell_type": "code",
   "execution_count": 11,
   "id": "9a980362-8816-4070-86e8-38e4c9f7d970",
   "metadata": {},
   "outputs": [],
   "source": [
    "import pandas as pd\n",
    "import numpy as np"
   ]
  },
  {
   "cell_type": "code",
   "execution_count": 3,
   "id": "66eb75cd-29aa-4407-9097-db15b7b45f57",
   "metadata": {},
   "outputs": [],
   "source": [
    "file_name = './mesh_ground/fluentInterface/mesh_ground.msh'"
   ]
  },
  {
   "cell_type": "code",
   "execution_count": 5,
   "id": "db73f272-7c97-4a8a-bed7-9af3ff3517fc",
   "metadata": {},
   "outputs": [],
   "source": [
    "def read_data(file_name, start, stop):\n",
    "    with open(file_name, 'r') as f:\n",
    "        A = f.readlines()[start:stop]\n",
    "    return A"
   ]
  },
  {
   "cell_type": "code",
   "execution_count": 66,
   "id": "e3d95060-7c3e-4a17-94dd-88f6fe298a1b",
   "metadata": {},
   "outputs": [],
   "source": [
    "header = read_data(file_name, 0, 12)\n",
    "# Reading Points Data\n",
    "point_skip = 12\n",
    "n_points = int(header[-2].split()[3], 16)\n",
    "points_data = pd.DataFrame(np.genfromtxt(\n",
    "    file_name,\n",
    "    skip_header=point_skip,\n",
    "    max_rows=n_points,\n",
    "))\n",
    "points_data.to_csv('./data/points_data.csv', sep='\\t')"
   ]
  },
  {
   "cell_type": "code",
   "execution_count": 67,
   "id": "73fd3714-5ff1-47a6-b597-69471e585f69",
   "metadata": {
    "scrolled": true
   },
   "outputs": [],
   "source": [
    "points_df = pd.read_csv('./data/points_data.csv', sep='\\t')\n",
    "points_df.columns = ['ID', 'X', 'Y', 'Z']\n",
    "points_df = points_df.drop(points_df[points_df['Z'] != 0.0].index)\n",
    "points_df = points_df.reset_index(drop=True)\n",
    "points_df['new_ID'] = points_df.index\n",
    "points_df.to_csv('./data/points_data.csv', sep='\\t')"
   ]
  },
  {
   "cell_type": "code",
   "execution_count": 68,
   "id": "19e78e8a-af02-4175-a3f2-1fcc63629cf8",
   "metadata": {},
   "outputs": [
    {
     "data": {
      "text/html": [
       "<div>\n",
       "<style scoped>\n",
       "    .dataframe tbody tr th:only-of-type {\n",
       "        vertical-align: middle;\n",
       "    }\n",
       "\n",
       "    .dataframe tbody tr th {\n",
       "        vertical-align: top;\n",
       "    }\n",
       "\n",
       "    .dataframe thead th {\n",
       "        text-align: right;\n",
       "    }\n",
       "</style>\n",
       "<table border=\"1\" class=\"dataframe\">\n",
       "  <thead>\n",
       "    <tr style=\"text-align: right;\">\n",
       "      <th></th>\n",
       "      <th>ID</th>\n",
       "      <th>X</th>\n",
       "      <th>Y</th>\n",
       "      <th>Z</th>\n",
       "      <th>new_ID</th>\n",
       "    </tr>\n",
       "  </thead>\n",
       "  <tbody>\n",
       "    <tr>\n",
       "      <th>0</th>\n",
       "      <td>0</td>\n",
       "      <td>0.0</td>\n",
       "      <td>0.0</td>\n",
       "      <td>0.0</td>\n",
       "      <td>0</td>\n",
       "    </tr>\n",
       "    <tr>\n",
       "      <th>1</th>\n",
       "      <td>1</td>\n",
       "      <td>0.1</td>\n",
       "      <td>0.0</td>\n",
       "      <td>0.0</td>\n",
       "      <td>1</td>\n",
       "    </tr>\n",
       "    <tr>\n",
       "      <th>2</th>\n",
       "      <td>2</td>\n",
       "      <td>0.2</td>\n",
       "      <td>0.0</td>\n",
       "      <td>0.0</td>\n",
       "      <td>2</td>\n",
       "    </tr>\n",
       "    <tr>\n",
       "      <th>3</th>\n",
       "      <td>3</td>\n",
       "      <td>0.3</td>\n",
       "      <td>0.0</td>\n",
       "      <td>0.0</td>\n",
       "      <td>3</td>\n",
       "    </tr>\n",
       "    <tr>\n",
       "      <th>4</th>\n",
       "      <td>4</td>\n",
       "      <td>0.4</td>\n",
       "      <td>0.0</td>\n",
       "      <td>0.0</td>\n",
       "      <td>4</td>\n",
       "    </tr>\n",
       "    <tr>\n",
       "      <th>...</th>\n",
       "      <td>...</td>\n",
       "      <td>...</td>\n",
       "      <td>...</td>\n",
       "      <td>...</td>\n",
       "      <td>...</td>\n",
       "    </tr>\n",
       "    <tr>\n",
       "      <th>336</th>\n",
       "      <td>567</td>\n",
       "      <td>2.6</td>\n",
       "      <td>1.0</td>\n",
       "      <td>0.0</td>\n",
       "      <td>336</td>\n",
       "    </tr>\n",
       "    <tr>\n",
       "      <th>337</th>\n",
       "      <td>568</td>\n",
       "      <td>2.7</td>\n",
       "      <td>1.0</td>\n",
       "      <td>0.0</td>\n",
       "      <td>337</td>\n",
       "    </tr>\n",
       "    <tr>\n",
       "      <th>338</th>\n",
       "      <td>569</td>\n",
       "      <td>2.8</td>\n",
       "      <td>1.0</td>\n",
       "      <td>0.0</td>\n",
       "      <td>338</td>\n",
       "    </tr>\n",
       "    <tr>\n",
       "      <th>339</th>\n",
       "      <td>570</td>\n",
       "      <td>2.9</td>\n",
       "      <td>1.0</td>\n",
       "      <td>0.0</td>\n",
       "      <td>339</td>\n",
       "    </tr>\n",
       "    <tr>\n",
       "      <th>340</th>\n",
       "      <td>571</td>\n",
       "      <td>3.0</td>\n",
       "      <td>1.0</td>\n",
       "      <td>0.0</td>\n",
       "      <td>340</td>\n",
       "    </tr>\n",
       "  </tbody>\n",
       "</table>\n",
       "<p>341 rows × 5 columns</p>\n",
       "</div>"
      ],
      "text/plain": [
       "      ID    X    Y    Z  new_ID\n",
       "0      0  0.0  0.0  0.0       0\n",
       "1      1  0.1  0.0  0.0       1\n",
       "2      2  0.2  0.0  0.0       2\n",
       "3      3  0.3  0.0  0.0       3\n",
       "4      4  0.4  0.0  0.0       4\n",
       "..   ...  ...  ...  ...     ...\n",
       "336  567  2.6  1.0  0.0     336\n",
       "337  568  2.7  1.0  0.0     337\n",
       "338  569  2.8  1.0  0.0     338\n",
       "339  570  2.9  1.0  0.0     339\n",
       "340  571  3.0  1.0  0.0     340\n",
       "\n",
       "[341 rows x 5 columns]"
      ]
     },
     "execution_count": 68,
     "metadata": {},
     "output_type": "execute_result"
    }
   ],
   "source": [
    "points_df"
   ]
  },
  {
   "cell_type": "code",
   "execution_count": 81,
   "id": "8206abee-ca21-4da8-9464-691965d14623",
   "metadata": {},
   "outputs": [],
   "source": [
    "def replace_aligned(x):\n",
    "    index = points_df[points_df[\"ID\"] == x-1].index\n",
    "    return points_df.loc[index]['new_ID'].values[0]"
   ]
  },
  {
   "cell_type": "code",
   "execution_count": 84,
   "id": "38e622f9-694c-4c89-830c-47c29086045a",
   "metadata": {},
   "outputs": [
    {
     "name": "stdout",
     "output_type": "stream",
     "text": [
      "340\n"
     ]
    }
   ],
   "source": [
    "replace_aligned(572)"
   ]
  },
  {
   "cell_type": "code",
   "execution_count": null,
   "id": "f26df5f2-643a-47e0-87c7-409e91df00ff",
   "metadata": {},
   "outputs": [],
   "source": []
  }
 ],
 "metadata": {
  "kernelspec": {
   "display_name": "Python 3 (ipykernel)",
   "language": "python",
   "name": "python3"
  },
  "language_info": {
   "codemirror_mode": {
    "name": "ipython",
    "version": 3
   },
   "file_extension": ".py",
   "mimetype": "text/x-python",
   "name": "python",
   "nbconvert_exporter": "python",
   "pygments_lexer": "ipython3",
   "version": "3.12.3"
  }
 },
 "nbformat": 4,
 "nbformat_minor": 5
}
